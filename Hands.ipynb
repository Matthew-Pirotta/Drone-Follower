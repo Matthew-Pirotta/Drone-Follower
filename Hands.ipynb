{
 "cells": [
  {
   "cell_type": "code",
   "execution_count": null,
   "id": "e45b5b7a-1067-44c1-958e-b3ddffa603fb",
   "metadata": {
    "scrolled": true
   },
   "outputs": [],
   "source": [
    "!pip install opencv-python mediapipe numpy"
   ]
  },
  {
   "cell_type": "markdown",
   "id": "ed095a9e-92b8-4f1f-964c-480e942efa83",
   "metadata": {},
   "source": [
    "<h3>Hand Recognition - run, camera will start, press q to quit</h3>"
   ]
  },
  {
   "cell_type": "code",
   "execution_count": 19,
   "id": "73b0cef3-2a93-44d3-8011-0e3c0dc1b2db",
   "metadata": {},
   "outputs": [],
   "source": [
    "import cv2\n",
    "import mediapipe as mp\n",
    "\n",
    "# Initialize MediaPipe Hands\n",
    "mp_hands = mp.solutions.hands\n",
    "mp_draw = mp.solutions.drawing_utils\n",
    "hands = mp_hands.Hands(min_detection_confidence=0.5, min_tracking_confidence=0.5)\n",
    "\n",
    "# Start webcam capture\n",
    "cap = cv2.VideoCapture(0)\n",
    "\n",
    "while cap.isOpened():\n",
    "    ret, frame = cap.read()\n",
    "    if not ret:\n",
    "        break\n",
    "\n",
    "    # Convert the frame to RGB (MediaPipe uses RGB)\n",
    "    rgb_frame = cv2.cvtColor(frame, cv2.COLOR_BGR2RGB)\n",
    "    results = hands.process(rgb_frame)\n",
    "\n",
    "    if results.multi_hand_landmarks:\n",
    "        for hand_landmarks in results.multi_hand_landmarks:\n",
    "            mp_draw.draw_landmarks(frame, hand_landmarks, mp_hands.HAND_CONNECTIONS)\n",
    "\n",
    "    cv2.imshow(\"Hand Gesture Detection\", frame)\n",
    "\n",
    "    # Press 'q' to exit                 !!\n",
    "    if cv2.waitKey(1) & 0xFF == ord('q'):\n",
    "        break\n",
    "\n",
    "cap.release()\n",
    "cv2.destroyAllWindows()\n"
   ]
  },
  {
   "cell_type": "markdown",
   "id": "cdc0efe7-d898-4f50-ac2d-8403ef312998",
   "metadata": {},
   "source": [
    "<h3>Peace Sign - run, camera will start, press q to quit</h3>"
   ]
  },
  {
   "cell_type": "code",
   "execution_count": 33,
   "id": "c3ee0b86-6082-443b-8f9c-d04f1f584c79",
   "metadata": {
    "scrolled": true
   },
   "outputs": [
    {
     "name": "stdout",
     "output_type": "stream",
     "text": [
      "✌️ Peace!\n",
      "✌️ Peace!\n",
      "✌️ Peace!\n",
      "✌️ Peace!\n",
      "✌️ Peace!\n",
      "✌️ Peace!\n",
      "✌️ Peace!\n",
      "✌️ Peace!\n",
      "✌️ Peace!\n",
      "✌️ Peace!\n",
      "✌️ Peace!\n",
      "✌️ Peace!\n",
      "✌️ Peace!\n",
      "✌️ Peace!\n",
      "✌️ Peace!\n",
      "✌️ Peace!\n",
      "✌️ Peace!\n",
      "✌️ Peace!\n",
      "✌️ Peace!\n",
      "✌️ Peace!\n",
      "✌️ Peace!\n",
      "✌️ Peace!\n",
      "✌️ Peace!\n",
      "✌️ Peace!\n",
      "✌️ Peace!\n",
      "✌️ Peace!\n",
      "✌️ Peace!\n",
      "✌️ Peace!\n",
      "✌️ Peace!\n",
      "✌️ Peace!\n",
      "✌️ Peace!\n",
      "✌️ Peace!\n",
      "✌️ Peace!\n",
      "✌️ Peace!\n",
      "✌️ Peace!\n",
      "✌️ Peace!\n",
      "✌️ Peace!\n",
      "✌️ Peace!\n",
      "✌️ Peace!\n",
      "✌️ Peace!\n",
      "✌️ Peace!\n",
      "✌️ Peace!\n",
      "✌️ Peace!\n",
      "✌️ Peace!\n",
      "✌️ Peace!\n",
      "✌️ Peace!\n",
      "✌️ Peace!\n",
      "✌️ Peace!\n",
      "✌️ Peace!\n",
      "✌️ Peace!\n",
      "✌️ Peace!\n",
      "✌️ Peace!\n"
     ]
    }
   ],
   "source": [
    "import cv2\n",
    "import mediapipe as mp\n",
    "\n",
    "# Initialize MediaPipe Hands\n",
    "mp_hands = mp.solutions.hands\n",
    "mp_draw = mp.solutions.drawing_utils\n",
    "hands = mp_hands.Hands(min_detection_confidence=0.5, min_tracking_confidence=0.5)\n",
    "\n",
    "# Start webcam capture\n",
    "cap = cv2.VideoCapture(0)\n",
    "\n",
    "def is_peace_sign(landmarks):\n",
    "    \"\"\"Check if the hand is making a peace sign.\"\"\"\n",
    "    index_finger_up = landmarks[8].y < landmarks[6].y  # Index finger extended\n",
    "    middle_finger_up = landmarks[12].y < landmarks[10].y  # Middle finger extended\n",
    "    ring_finger_down = landmarks[16].y > landmarks[14].y  # Ring finger folded\n",
    "    pinky_finger_down = landmarks[20].y > landmarks[18].y  # Pinky folded\n",
    "\n",
    "    return index_finger_up and middle_finger_up and ring_finger_down and pinky_finger_down\n",
    "\n",
    "while cap.isOpened():\n",
    "    ret, frame = cap.read()\n",
    "    if not ret:\n",
    "        break\n",
    "\n",
    "    # Convert the frame to RGB (MediaPipe uses RGB)\n",
    "    rgb_frame = cv2.cvtColor(frame, cv2.COLOR_BGR2RGB)\n",
    "    results = hands.process(rgb_frame)\n",
    "\n",
    "    if results.multi_hand_landmarks:\n",
    "        for hand_landmarks in results.multi_hand_landmarks:\n",
    "            mp_draw.draw_landmarks(frame, hand_landmarks, mp_hands.HAND_CONNECTIONS)\n",
    "\n",
    "            # Check for peace sign gesture\n",
    "            if is_peace_sign(hand_landmarks.landmark):\n",
    "                print(\"✌️ Peace!\")\n",
    "\n",
    "    cv2.imshow(\"Peace Sign Detection\", frame)\n",
    "\n",
    "    # Press 'q' to exit\n",
    "    if cv2.waitKey(1) & 0xFF == ord('q'):\n",
    "        break\n",
    "\n",
    "cap.release()\n",
    "cv2.destroyAllWindows()\n"
   ]
  }
 ],
 "metadata": {
  "kernelspec": {
   "display_name": "Python [conda env:base] *",
   "language": "python",
   "name": "conda-base-py"
  },
  "language_info": {
   "codemirror_mode": {
    "name": "ipython",
    "version": 3
   },
   "file_extension": ".py",
   "mimetype": "text/x-python",
   "name": "python",
   "nbconvert_exporter": "python",
   "pygments_lexer": "ipython3",
   "version": "3.11.11"
  }
 },
 "nbformat": 4,
 "nbformat_minor": 5
}
